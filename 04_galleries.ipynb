{
 "cells": [
  {
   "cell_type": "code",
   "execution_count": 1,
   "metadata": {},
   "outputs": [],
   "source": [
    "import gzip\n",
    "import os\n",
    "import json\n",
    "import re\n",
    "import pandas as pd\n",
    "from fuzzywuzzy import fuzz\n",
    "from fuzzywuzzy import process\n",
    "from multiprocessing import Process\n",
    "import time\n",
    "import sys\n",
    "\n"
   ]
  },
  {
   "cell_type": "code",
   "execution_count": 2,
   "metadata": {},
   "outputs": [],
   "source": [
    "names = [line.strip() for line in open('Ikon/extracted/all_galleries_raw.dat')]"
   ]
  },
  {
   "cell_type": "code",
   "execution_count": 3,
   "metadata": {},
   "outputs": [
    {
     "name": "stdout",
     "output_type": "stream",
     "text": [
      "98 \t Art Factory Galéria I. Art Factory Galéria II.\n",
      "98 \t Art Factory Galéria II. Art Factory Galéria I.\n",
      "91 \t Bartók 1 Galéria Bartók 32 Galéria\n",
      "91 \t Bartók 32 Galéria Bartók 1 Galéria\n",
      "91 \t Budapest Galéria Új Budapest Galéria\n",
      "92 \t Béka Kortárs Művészeti Galéria acb Kortárs Művészeti Galéria\n",
      "95 \t Galéria IX Galéria X\n",
      "95 \t Galéria X Galéria IX\n",
      "92 \t Miskolci Kortárs Művészeti Intézet (M.ICA) Miskolci Kortárs Művészeti Intézet (M.ICA) - ZOOM\n",
      "92 \t Miskolci Kortárs Művészeti Intézet (M.ICA) - ZOOM Miskolci Kortárs Művészeti Intézet (M.ICA)\n",
      "94 \t OFF-Biennálé 2015 OFF-Biennálé 2017\n",
      "94 \t OFF-Biennálé 2017 OFF-Biennálé 2015\n",
      "92 \t acb Kortárs Művészeti Galéria Béka Kortárs Művészeti Galéria\n",
      "96 \t Érdi Galéria Éri Galéria\n",
      "96 \t Éri Galéria Érdi Galéria\n",
      "91 \t Új Budapest Galéria Budapest Galéria\n"
     ]
    }
   ],
   "source": [
    "for ind, n1 in enumerate(names):\n",
    "    for n2 in names:\n",
    "\n",
    "        #print(ind+1, '/408\\t\\t')\n",
    "\n",
    "        if n1 != n2:\n",
    "            fuzzy = fuzz.ratio(n1, n2)\n",
    "            if fuzzy > 90:\n",
    "                print(fuzzy, '\\t', n1, n2)\n",
    "                #fout.write(n1 + '\\t' + n2 + '\\t' + str(fuzzy) + '\\n')\n",
    "\n"
   ]
  },
  {
   "cell_type": "markdown",
   "metadata": {},
   "source": [
    "## matching ikon magnus -- ez nem igazán érdekes"
   ]
  },
  {
   "cell_type": "code",
   "execution_count": 4,
   "metadata": {},
   "outputs": [
    {
     "data": {
      "text/plain": [
       "{'gallery', 'museum'}"
      ]
     },
     "execution_count": 4,
     "metadata": {},
     "output_type": "execute_result"
    }
   ],
   "source": [
    "set(pd.read_csv('../../Hungarian Art Data Project-2020/Data/BarabasiLabData_HungaryInstitutionInfo.csv').Type)"
   ]
  },
  {
   "cell_type": "code",
   "execution_count": 20,
   "metadata": {},
   "outputs": [
    {
     "name": "stdout",
     "output_type": "stream",
     "text": [
      "51\n"
     ]
    }
   ],
   "source": [
    "names1 = [line.strip() for line in open('Ikon/extracted/all_galleries_raw.dat')]\n",
    "names2 = list(pd.read_csv('../../Hungarian Art Data Project-2020/Data/BarabasiLabData_HungaryInstitutionInfo.csv').Name)\n",
    "\n",
    "off = ['Galéria', 'Galeria', 'Gallery', 'Múzeum', 'Museum']\n",
    "n = 0\n",
    "\n",
    "\n",
    "fout = open('IkonMatchingMagnus.csv', 'w')\n",
    "fout.write('Ikon\\tMagnus\\tSimilarity\\n')\n",
    "\n",
    "for n1 in names1:\n",
    "\n",
    "    line  = n1 + '\\t'\n",
    "    match = ('', 0)\n",
    "    \n",
    "    for n2 in names2:\n",
    "        \n",
    "        n11 = n1\n",
    "        n22 = n2\n",
    "        \n",
    "        for o in off:    \n",
    "            n11 = n11.replace(o, '').lower()\n",
    "            n22 = n22.replace(o, '').lower()\n",
    "        \n",
    "        fuzzy = fuzz.ratio(n11, n22)\n",
    "        if fuzzy > 69:\n",
    "            if fuzzy > match[1]:\n",
    "                match = (n2, fuzzy)\n",
    "\n",
    "        \n",
    "    if match[1] > 0:\n",
    "        line = line + match[0] + '\\t' + str(match[1]) + '\\n'\n",
    "        n+=1\n",
    "    else:\n",
    "        line = line + 'unmatched\\tna\\n'\n",
    "        \n",
    "    fout.write(line)\n",
    "       \n",
    "fout.close()        \n",
    "print(n)\n",
    "\n",
    "\n",
    "df = pd.read_csv('IkonMatchingMagnus.csv', sep = '\\t')\n",
    "df = df.sort_values(by = 'Similarity')\n",
    "df.to_excel('../../Hungarian Art Data Project-2020/Data/IkonMatchingMagnus.xls')"
   ]
  },
  {
   "cell_type": "markdown",
   "metadata": {},
   "source": [
    "## matching ikon magnus -- ennek a kimenetel tábláját (Dropbox...) használja Anna"
   ]
  },
  {
   "cell_type": "code",
   "execution_count": 42,
   "metadata": {},
   "outputs": [
    {
     "name": "stdout",
     "output_type": "stream",
     "text": [
      "58\n"
     ]
    },
    {
     "data": {
      "text/html": [
       "<div>\n",
       "<style scoped>\n",
       "    .dataframe tbody tr th:only-of-type {\n",
       "        vertical-align: middle;\n",
       "    }\n",
       "\n",
       "    .dataframe tbody tr th {\n",
       "        vertical-align: top;\n",
       "    }\n",
       "\n",
       "    .dataframe thead th {\n",
       "        text-align: right;\n",
       "    }\n",
       "</style>\n",
       "<table border=\"1\" class=\"dataframe\">\n",
       "  <thead>\n",
       "    <tr style=\"text-align: right;\">\n",
       "      <th></th>\n",
       "      <th>Ikon</th>\n",
       "      <th>Similarity</th>\n",
       "    </tr>\n",
       "    <tr>\n",
       "      <th>Magnus</th>\n",
       "      <th></th>\n",
       "      <th></th>\n",
       "    </tr>\n",
       "  </thead>\n",
       "  <tbody>\n",
       "    <tr>\n",
       "      <th>Budapest Galéria</th>\n",
       "      <td>Budapest Galéria</td>\n",
       "      <td>100</td>\n",
       "    </tr>\n",
       "    <tr>\n",
       "      <th>Impex</th>\n",
       "      <td>IMPEX</td>\n",
       "      <td>100</td>\n",
       "    </tr>\n",
       "    <tr>\n",
       "      <th>Nessim Galéria</th>\n",
       "      <td>Nessim Galéria</td>\n",
       "      <td>100</td>\n",
       "    </tr>\n",
       "    <tr>\n",
       "      <th>Hal Köz Galéria</th>\n",
       "      <td>Hal Köz Galéria</td>\n",
       "      <td>100</td>\n",
       "    </tr>\n",
       "    <tr>\n",
       "      <th>Karinthy Szalon</th>\n",
       "      <td>Karinthy Szalon</td>\n",
       "      <td>100</td>\n",
       "    </tr>\n",
       "  </tbody>\n",
       "</table>\n",
       "</div>"
      ],
      "text/plain": [
       "                              Ikon  Similarity\n",
       "Magnus                                        \n",
       "Budapest Galéria  Budapest Galéria         100\n",
       "Impex                        IMPEX         100\n",
       "Nessim Galéria      Nessim Galéria         100\n",
       "Hal Köz Galéria    Hal Köz Galéria         100\n",
       "Karinthy Szalon    Karinthy Szalon         100"
      ]
     },
     "execution_count": 42,
     "metadata": {},
     "output_type": "execute_result"
    }
   ],
   "source": [
    "fout = open('MagnusMatchinIkon.csv', 'w')\n",
    "fout.write('Magnus\\tIkon\\tSimilarity\\n')\n",
    "\n",
    "n = 0\n",
    "\n",
    "\n",
    "for n1 in names2:\n",
    "    \n",
    "    \n",
    "    line = n1 + '\\t'\n",
    "    \n",
    "    match = ('', 0)\n",
    "    \n",
    "    for n2 in names1:\n",
    "        \n",
    "        n11 = n1\n",
    "        n22 = n2\n",
    "        \n",
    "        for o in off:    \n",
    "            n11 = n11.replace(o, '').lower()\n",
    "            n22 = n22.replace(o, '').lower()\n",
    "        \n",
    "        \n",
    "        fuzzy = fuzz.ratio(n11, n22)\n",
    "        if fuzzy > 69:\n",
    "            #print(fuzzy, '\\t', n1, '--\\t--', n2)\n",
    "            if fuzzy > match[1]:\n",
    "                match = (n2, fuzzy)\n",
    "            #\n",
    "                \n",
    "        #else:\n",
    "            #\n",
    "    \n",
    "    #print(match)\n",
    "        \n",
    "    if match[1] > 0:\n",
    "        line = line + match[0] + '\\t' + str(match[1]) + '\\n'\n",
    "        n += 1\n",
    "    else:\n",
    "        line = line + 'unmatched\\t-1\\n'\n",
    "        \n",
    "    fout.write(line)\n",
    "       \n",
    "fout.close()        \n",
    "print(n)\n",
    "\n",
    "df = pd.read_csv('MagnusMatchinIkon.csv', sep = '\\t')\n",
    "\n",
    "df.index = df.Magnus\n",
    "df = df.drop(columns = ['Magnus'])\n",
    "\n",
    "df.Similarity = df.Similarity.astype(int)\n",
    "df = df.sort_values(by = 'Similarity', ascending = False)\n",
    "df.to_excel('../../Hungarian Art Data Project-2020/Data/MagnusMatchinIkon.xls')\n",
    "df.head()"
   ]
  },
  {
   "cell_type": "code",
   "execution_count": 44,
   "metadata": {},
   "outputs": [],
   "source": [
    "df2 = pd.read_csv('../../Hungarian Art Data Project-2020/Data/IkonGalleryNamesRaw.txt')\n",
    "df2 = df2.sort_values(by = 'name')#, ascending = False)\n",
    "df2.index = df2.name\n",
    "df2 = df2.drop(columns = ['name'])\n",
    "df2.to_excel('../../Hungarian Art Data Project-2020/Data/IkonGalleryNameFrequency.xls')"
   ]
  }
 ],
 "metadata": {
  "kernelspec": {
   "display_name": "Python 3",
   "language": "python",
   "name": "python3"
  },
  "language_info": {
   "codemirror_mode": {
    "name": "ipython",
    "version": 3
   },
   "file_extension": ".py",
   "mimetype": "text/x-python",
   "name": "python",
   "nbconvert_exporter": "python",
   "pygments_lexer": "ipython3",
   "version": "3.5.2"
  }
 },
 "nbformat": 4,
 "nbformat_minor": 2
}
