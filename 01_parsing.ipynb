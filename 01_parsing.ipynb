{
 "cells": [
  {
   "cell_type": "code",
   "execution_count": 1,
   "metadata": {},
   "outputs": [],
   "source": [
    "import os\n",
    "import bs4\n",
    "import re\n",
    "import pandas as pd\n",
    "import numpy as np\n",
    "import datetime\n",
    "from collections import Counter\n",
    "\n",
    "files = os.listdir('Ikon/tmp')"
   ]
  },
  {
   "cell_type": "code",
   "execution_count": 2,
   "metadata": {},
   "outputs": [],
   "source": [
    "def add_fields(sp, tag, cls):\n",
    "    \n",
    "    res = sp.findAll(tag, {'class' : cls})\n",
    "    if len(res) > 0:\n",
    "        return res[0].text.strip()\n",
    "    else:\n",
    "        return None\n",
    "    \n",
    " \n",
    "    \n",
    "all_exhibitions = []   \n",
    "all_artists = []\n",
    "all_galleries = []\n",
    "\n",
    "names_dates = {}\n",
    "galeries_dates = {}\n",
    "\n",
    "already_processed = set()\n",
    "\n",
    "for fn in files:\n",
    "    \n",
    "    if 2 == 2:\n",
    "    #if 'IkOn2015.01.26.Mon-2015.02.01.Sun' in fn:\n",
    "        \n",
    "        with open('Ikon/tmp/' + fn) as myfile:\n",
    "            html = myfile.read()\n",
    "            soup = bs4.BeautifulSoup(html,\"lxml\")\n",
    "            exbhis = soup.findAll('div', {'class' : \"row\"})\n",
    "            \n",
    "            for ex in exbhis:\n",
    "                \n",
    "                exhibition = {}\n",
    "        \n",
    "                year_m  = add_fields(ex, 'div', 'year-month')\n",
    "                \n",
    "                if year_m:\n",
    "                \n",
    "                    title = add_fields(ex, 'a',   'title')\n",
    "                \n",
    "                    if title not in already_processed:\n",
    "\n",
    "                        already_processed.add(title)\n",
    "\n",
    "                        day     = add_fields(ex, 'div', 'day')\n",
    "                        hour    = add_fields(ex, 'div', 'hour')\n",
    "                        year_m  = ''.join([s for s in year_m if (s == '.' or s.isdigit())])\n",
    "                        date    = datetime.datetime.strptime(year_m + ' ' + day + ' ' + hour, '%Y.%m. %d %H:%M')\n",
    "                        gallery = add_fields(ex, 'a',   'gallery')\n",
    "\n",
    "                        exhibition['date']    = date\n",
    "                        exhibition['title']   = title\n",
    "                        exhibition['gallery'] = gallery\n",
    "                        artists               = ex.findAll('', {'class' : 'artists'}) \n",
    "                        exhibition['artists'] =  '; '.join([a.text.replace(';' , ' ') for a in artists])\n",
    "                        all_exhibitions.append(exhibition)\n",
    "\n",
    "                        if gallery not in galeries_dates:\n",
    "                            galeries_dates[gallery] = []\n",
    "                        galeries_dates[gallery].append(date)\n",
    "                        \n",
    "\n",
    "                        all_artists += [a.text for a in artists]\n",
    "                        \n",
    "                        for a in artists:\n",
    "                            if a.text not in names_dates:\n",
    "                                names_dates[a.text] = []\n",
    "                            names_dates[a.text].append(date)\n",
    "                        \n",
    "                        all_galleries.append(gallery)\n",
    "                    \n",
    "\n",
    "df = pd.DataFrame(all_exhibitions)                    "
   ]
  },
  {
   "cell_type": "markdown",
   "metadata": {},
   "source": [
    "## Saving the outputs"
   ]
  },
  {
   "cell_type": "markdown",
   "metadata": {},
   "source": [
    "### Top names"
   ]
  },
  {
   "cell_type": "code",
   "execution_count": 3,
   "metadata": {},
   "outputs": [
    {
     "name": "stdout",
     "output_type": "stream",
     "text": [
      "0 \t -, \t 2984\n",
      "1 \t - \t 2002\n",
      "2 \t Koronczi Endre, \t 149\n",
      "3 \t művészettörténész \t 135\n",
      "4 \t Nádler István, \t 131\n",
      "5 \t Maurer Dóra, \t 126\n",
      "6 \t Szombathy Bálint \t 126\n",
      "7 \t Sugár János, \t 125\n",
      "8 \t Bukta Imre, \t 123\n",
      "9 \t Koroknai Zsolt, \t 119\n",
      "10 \t Kerekes Gábor, \t 115\n",
      "11 \t Csontó Lajos, \t 115\n",
      "12 \t Gerhes Gábor, \t 115\n",
      "13 \t Győrffy László, \t 114\n",
      "14 \t Török Tamás, \t 114\n",
      "15 \t Mélyi József \t 111\n",
      "16 \t --- \t 110\n",
      "17 \t Bánki Ákos, \t 110\n",
      "18 \t Szirtes János, \t 110\n",
      "19 \t Horváth Judit, \t 109\n"
     ]
    }
   ],
   "source": [
    "for ind, (a, b) in enumerate(Counter(all_artists).most_common(20)):\n",
    "    print(ind ,'\\t', a, '\\t',b)"
   ]
  },
  {
   "cell_type": "markdown",
   "metadata": {},
   "source": [
    "### Saving name & dates, counts"
   ]
  },
  {
   "cell_type": "code",
   "execution_count": 3,
   "metadata": {},
   "outputs": [
    {
     "data": {
      "text/plain": [
       "108212"
      ]
     },
     "execution_count": 3,
     "metadata": {},
     "output_type": "execute_result"
    }
   ],
   "source": [
    "fout = open('Ikon/extracted/all_artists.dat', 'w')\n",
    "for ind, a in enumerate(all_artists_s):\n",
    "    fout.write(a.replace('\\n', ' ').strip()+'\\n')\n",
    "fout.close()\n",
    "\n",
    "len(all_artists)"
   ]
  },
  {
   "cell_type": "code",
   "execution_count": 17,
   "metadata": {},
   "outputs": [
    {
     "data": {
      "text/plain": [
       "27498"
      ]
     },
     "execution_count": 17,
     "metadata": {},
     "output_type": "execute_result"
    }
   ],
   "source": [
    "### ALL NAMES\n",
    "df.to_csv('Ikon/extracted/ikon_exhibitions_raw.csv', sep = '\\t',encoding='utf-8')\n",
    "\n",
    "fout = open('Ikon/extracted/all_artists_raw.dat', 'w')\n",
    "all_artists_s = sorted(list(set(all_artists)))\n",
    "for ind, a in enumerate(all_artists_s):\n",
    "    fout.write(a.replace('\\n', ' ').strip()+'\\n')\n",
    "fout.close()\n",
    "\n",
    "\n",
    "fout = open('Ikon/extracted/all_galleries_raw.dat', 'w')\n",
    "all_galleries_s = sorted(list(set(all_galleries)))\n",
    "for a in all_galleries_s:\n",
    "    fout.write(a.strip()+'\\n')\n",
    "fout.close()\n",
    "\n",
    "len([line.strip() for line in open('Ikon/extracted/all_artists_raw.dat')])\n"
   ]
  },
  {
   "cell_type": "code",
   "execution_count": 19,
   "metadata": {},
   "outputs": [
    {
     "data": {
      "text/plain": [
       "27498"
      ]
     },
     "execution_count": 19,
     "metadata": {},
     "output_type": "execute_result"
    }
   ],
   "source": [
    "### COUNT NAMES\n",
    "\n",
    "fout = open('Ikon/extracted/all_artists_cnt.dat', 'w')\n",
    "artists_cnt = Counter(all_artists)\n",
    "for (a, c) in dict(artists_cnt).items():\n",
    "    fout.write(a.strip() + '\\t' + str(c) +'\\n')\n",
    "fout.close()\n",
    "\n",
    "fout = open('Ikon/extracted/all_galleries_cnt.dat', 'w')\n",
    "galleries_cnt = Counter(all_galleries)\n",
    "for a, c in dict(galleries_cnt).items():\n",
    "    fout.write(a.strip() + '\\t' + str(c) +'\\n')\n",
    "fout.close()\n",
    "\n",
    "\n",
    "len(artists_cnt)"
   ]
  },
  {
   "cell_type": "code",
   "execution_count": 13,
   "metadata": {},
   "outputs": [],
   "source": [
    "fout = open('Ikon/extracted/names_min_max_date.dat', 'w')\n",
    "for n, dates in names_dates.items():\n",
    "    if len(n) > 0 and len(dates) > 0:\n",
    "        fout.write(n + '\\t' + str(min(dates)) + '\\t' + str(max(dates)) + '\\n' )\n",
    "fout.close()"
   ]
  },
  {
   "cell_type": "code",
   "execution_count": 5,
   "metadata": {},
   "outputs": [
    {
     "data": {
      "text/plain": [
       "13265"
      ]
     },
     "execution_count": 5,
     "metadata": {},
     "output_type": "execute_result"
    }
   ],
   "source": [
    "folderout = 'extracted'\n",
    "if not os.path.exists(folderout):\n",
    "    os.makedirs(folderout)\n",
    "    \n",
    "df = df.drop_duplicates()    \n",
    "    \n",
    "len(df)"
   ]
  },
  {
   "cell_type": "code",
   "execution_count": 9,
   "metadata": {},
   "outputs": [],
   "source": [
    "fout = open('Ikon/extracted/all_artists_dates.dat', 'w')\n",
    "\n",
    "for name, dates in names_dates.items():\n",
    "    if len(name) > 1:\n",
    "        fout.write(name + '\\t\\t' + '\\t'.join([str(_) for _ in dates]) + '\\n')\n",
    "fout.close()\n",
    "\n",
    "\n",
    "fout = open('Ikon/extracted/all_galleries_dates.dat', 'w')\n",
    "for name, dates in galeries_dates.items():\n",
    "    fout.write(name + '\\t\\t' + '\\t'.join([str(_) for _ in dates]) + '\\n')\n",
    "fout.close()"
   ]
  },
  {
   "cell_type": "code",
   "execution_count": 7,
   "metadata": {},
   "outputs": [
    {
     "name": "stdout",
     "output_type": "stream",
     "text": [
      "27498\n"
     ]
    },
    {
     "data": {
      "text/plain": [
       "27498"
      ]
     },
     "execution_count": 7,
     "metadata": {},
     "output_type": "execute_result"
    }
   ],
   "source": []
  },
  {
   "cell_type": "code",
   "execution_count": 8,
   "metadata": {},
   "outputs": [
    {
     "data": {
      "text/plain": [
       "(27498, 27497)"
      ]
     },
     "execution_count": 8,
     "metadata": {},
     "output_type": "execute_result"
    }
   ],
   "source": [
    "len(list(set(all_artists))), ind"
   ]
  },
  {
   "cell_type": "code",
   "execution_count": null,
   "metadata": {},
   "outputs": [],
   "source": []
  },
  {
   "cell_type": "markdown",
   "metadata": {},
   "source": [
    "## Galleries"
   ]
  },
  {
   "cell_type": "code",
   "execution_count": 10,
   "metadata": {},
   "outputs": [],
   "source": [
    "df = pd.DataFrame(Counter(all_galleries).most_common(), columns = ['name', 'frequency'])\n",
    "df.index = df.name\n",
    "df = df.drop(columns= ['name'])\n",
    "\n",
    "df.to_csv('gallery_names_raw.csv')"
   ]
  },
  {
   "cell_type": "code",
   "execution_count": null,
   "metadata": {},
   "outputs": [],
   "source": []
  },
  {
   "cell_type": "code",
   "execution_count": null,
   "metadata": {},
   "outputs": [],
   "source": []
  }
 ],
 "metadata": {
  "kernelspec": {
   "display_name": "Python 3",
   "language": "python",
   "name": "python3"
  },
  "language_info": {
   "codemirror_mode": {
    "name": "ipython",
    "version": 3
   },
   "file_extension": ".py",
   "mimetype": "text/x-python",
   "name": "python",
   "nbconvert_exporter": "python",
   "pygments_lexer": "ipython3",
   "version": "3.5.2"
  }
 },
 "nbformat": 4,
 "nbformat_minor": 2
}
